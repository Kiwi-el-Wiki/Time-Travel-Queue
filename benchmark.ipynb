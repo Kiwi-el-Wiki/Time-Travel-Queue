{
 "cells": [
  {
   "cell_type": "code",
   "execution_count": 1,
   "metadata": {},
   "outputs": [],
   "source": [
    "import random\n",
    "from time import perf_counter\n",
    "import datetime\n",
    "import retroactive_queue\n",
    "\n",
    "n_values = 1000000 # number of values to insert in the queue\n",
    "\n",
    "batchs = [100, 1000, 10000, 100000, 1000000] # batch sizes to test\n",
    "\n",
    "n_iterations = 6 # number of iterations to average the results, 4 is the most common value"
   ]
  },
  {
   "cell_type": "code",
   "execution_count": 2,
   "metadata": {},
   "outputs": [
    {
     "name": "stdout",
     "output_type": "stream",
     "text": [
      "[datetime.datetime(2000, 4, 15, 6, 10, 13, 253490), 738947]\n",
      "[datetime.datetime(2009, 2, 11, 8, 44, 56, 620910), 946263]\n",
      "[datetime.datetime(2014, 3, 14, 20, 13, 15, 740962), 521594]\n",
      "[datetime.datetime(2010, 7, 10, 16, 57, 59, 177024), 891000]\n",
      "[datetime.datetime(2000, 2, 6, 13, 2, 31, 95603), 211792]\n",
      "[datetime.datetime(2001, 12, 6, 1, 53, 22, 231971), 843291]\n",
      "[datetime.datetime(2012, 11, 14, 5, 40, 19, 57011), 441900]\n",
      "[datetime.datetime(2016, 12, 25, 4, 28, 19, 149757), 352797]\n",
      "[datetime.datetime(2010, 3, 14, 7, 56, 25, 716429), 945406]\n"
     ]
    }
   ],
   "source": [
    "# NOT the best way to generate random datetime objects, but we aren't measuring this, this is just random test data\n",
    "def generate_random_test_data(n_elements):\n",
    "    list_datetime = [0]*n_elements\n",
    "    list_string = [0]*n_elements\n",
    "    # generate n random datetime objects\n",
    "\n",
    "    for i in range(n_elements):\n",
    "        year = random.randint(2000, 2020)\n",
    "        month = random.randint(1, 12)\n",
    "        day = random.randint(1, 28)\n",
    "        hour = random.randint(0, 23)\n",
    "        minute = random.randint(0, 59)\n",
    "        second = random.randint(0, 59)\n",
    "        microsecond = random.randint(0, 999999)\n",
    "\n",
    "        list_datetime[i] = datetime.datetime(year, month, day, hour, minute, second, microsecond)\n",
    "    \n",
    "    # generate n random strings\n",
    "    for i in range(n_elements):\n",
    "        list_string[i] = random.randint(0, 1000000)\n",
    "    \n",
    "    # merge so [time, value]\n",
    "    for i in range(n_elements):\n",
    "        list_datetime[i] = [list_datetime[i], list_string[i]]\n",
    "\n",
    "    return list_datetime\n",
    "\n",
    "mother_list = generate_random_test_data(1000000)\n",
    "\n",
    "for i in range(1, 10):\n",
    "    print(mother_list[random.randint(0, 1000000)])\n"
   ]
  },
  {
   "cell_type": "code",
   "execution_count": 3,
   "metadata": {},
   "outputs": [],
   "source": [
    "def push_performance(batch_size):\n",
    "    \n",
    "    start = perf_counter()\n",
    "\n",
    "    # push(random datetime, any value)\n",
    "    for i in range(n_iterations): \n",
    "        queue = retroactive_queue.queue(datetime.datetime(2023, 1, 1, 12, 0, 0), \"a\")\n",
    "        \n",
    "        # push n elements\n",
    "        for j in range(batch_size):\n",
    "            queue.push(mother_list[j][0], mother_list[j][1])\n",
    "        \n",
    "        # reset queue\n",
    "        queue = None\n",
    "    \n",
    "    end = perf_counter()\n",
    "    \n",
    "    return (end - start) / n_iterations\n",
    "\n",
    "def pop_performance(batch_size):\n",
    "    \n",
    "    start = perf_counter()\n",
    "\n",
    "    # push(random datetime, any value)\n",
    "    for i in range(n_iterations): \n",
    "        queue = retroactive_queue.queue(datetime.datetime(2023, 1, 1, 12, 0, 0), \"a\")\n",
    "        \n",
    "        # push n elements\n",
    "        for j in range(batch_size):\n",
    "            queue.push(mother_list[j][0], mother_list[j][1])\n",
    "        \n",
    "        # pop n elements\n",
    "        for j in range(batch_size):\n",
    "            queue.pop(mother_list[-j][0])\n",
    "        \n",
    "        # reset queue\n",
    "        queue = None\n",
    "    \n",
    "    end = perf_counter()\n",
    "    \n",
    "    return (end - start) / n_iterations"
   ]
  },
  {
   "cell_type": "code",
   "execution_count": 4,
   "metadata": {},
   "outputs": [],
   "source": [
    "def evaluate_performance():\n",
    "    push_results = []\n",
    "    pop_results = []\n",
    "\n",
    "    for batch in batchs:\n",
    "        push_time = push_performance(batch)\n",
    "        pop_time = pop_performance(batch)\n",
    "        \n",
    "        push_results.append(push_time)\n",
    "        pop_results.append(pop_time)\n",
    "        \n",
    "        print(f\"Batch size: {batch}\")\n",
    "        print(f\"push time: {push_time}\")\n",
    "        print(f\"pop time: {pop_time}\")\n",
    "\n",
    "    return push_results, pop_results"
   ]
  },
  {
   "cell_type": "code",
   "execution_count": 5,
   "metadata": {},
   "outputs": [
    {
     "name": "stdout",
     "output_type": "stream",
     "text": [
      "Batch size: 100\n",
      "push time: 0.0015138333352903526\n",
      "pop time: 0.006299566661861415\n",
      "Batch size: 1000\n",
      "push time: 0.012570550005572537\n",
      "pop time: 0.3892401833339439\n",
      "Batch size: 10000\n",
      "push time: 0.1418305666593369\n",
      "pop time: 72.33401339999789\n"
     ]
    },
    {
     "ename": "KeyboardInterrupt",
     "evalue": "",
     "output_type": "error",
     "traceback": [
      "\u001b[1;31m---------------------------------------------------------------------------\u001b[0m",
      "\u001b[1;31mKeyboardInterrupt\u001b[0m                         Traceback (most recent call last)",
      "Cell \u001b[1;32mIn[5], line 1\u001b[0m\n\u001b[1;32m----> 1\u001b[0m \u001b[43mevaluate_performance\u001b[49m\u001b[43m(\u001b[49m\u001b[43m)\u001b[49m\n",
      "Cell \u001b[1;32mIn[4], line 7\u001b[0m, in \u001b[0;36mevaluate_performance\u001b[1;34m()\u001b[0m\n\u001b[0;32m      5\u001b[0m \u001b[38;5;28;01mfor\u001b[39;00m batch \u001b[38;5;129;01min\u001b[39;00m batchs:\n\u001b[0;32m      6\u001b[0m     push_time \u001b[38;5;241m=\u001b[39m push_performance(batch)\n\u001b[1;32m----> 7\u001b[0m     pop_time \u001b[38;5;241m=\u001b[39m \u001b[43mpop_performance\u001b[49m\u001b[43m(\u001b[49m\u001b[43mbatch\u001b[49m\u001b[43m)\u001b[49m\n\u001b[0;32m      9\u001b[0m     push_results\u001b[38;5;241m.\u001b[39mappend(push_time)\n\u001b[0;32m     10\u001b[0m     pop_results\u001b[38;5;241m.\u001b[39mappend(pop_time)\n",
      "Cell \u001b[1;32mIn[3], line 34\u001b[0m, in \u001b[0;36mpop_performance\u001b[1;34m(batch_size)\u001b[0m\n\u001b[0;32m     32\u001b[0m \u001b[38;5;66;03m# pop n elements\u001b[39;00m\n\u001b[0;32m     33\u001b[0m \u001b[38;5;28;01mfor\u001b[39;00m j \u001b[38;5;129;01min\u001b[39;00m \u001b[38;5;28mrange\u001b[39m(batch_size):\n\u001b[1;32m---> 34\u001b[0m     \u001b[43mqueue\u001b[49m\u001b[38;5;241;43m.\u001b[39;49m\u001b[43mpop\u001b[49m\u001b[43m(\u001b[49m\u001b[43mmother_list\u001b[49m\u001b[43m[\u001b[49m\u001b[38;5;241;43m-\u001b[39;49m\u001b[43mj\u001b[49m\u001b[43m]\u001b[49m\u001b[43m[\u001b[49m\u001b[38;5;241;43m0\u001b[39;49m\u001b[43m]\u001b[49m\u001b[43m)\u001b[49m\n\u001b[0;32m     36\u001b[0m \u001b[38;5;66;03m# reset queue\u001b[39;00m\n\u001b[0;32m     37\u001b[0m queue \u001b[38;5;241m=\u001b[39m \u001b[38;5;28;01mNone\u001b[39;00m\n",
      "File \u001b[1;32mc:\\Users\\kiwi\\Desktop\\U\\CV-tuning\\Time-Travel-Queue\\retroactive_queue.py:27\u001b[0m, in \u001b[0;36mqueue.pop\u001b[1;34m(self, time)\u001b[0m\n\u001b[0;32m     25\u001b[0m     \u001b[38;5;28;01mreturn\u001b[39;00m \u001b[38;5;28mself\u001b[39m\u001b[38;5;241m.\u001b[39mfront(time)\n\u001b[0;32m     26\u001b[0m \u001b[38;5;28;01melse\u001b[39;00m:\n\u001b[1;32m---> 27\u001b[0m     flag \u001b[38;5;241m=\u001b[39m \u001b[38;5;28;43mself\u001b[39;49m\u001b[38;5;241;43m.\u001b[39;49m\u001b[43mconsistency\u001b[49m\u001b[38;5;241;43m.\u001b[39;49m\u001b[43madd_node\u001b[49m\u001b[43m(\u001b[49m\u001b[43most\u001b[49m\u001b[38;5;241;43m.\u001b[39;49m\u001b[43mnode_consistency\u001b[49m\u001b[43m(\u001b[49m\u001b[43mtime\u001b[49m\u001b[43m,\u001b[49m\u001b[43m \u001b[49m\u001b[38;5;241;43m-\u001b[39;49m\u001b[38;5;241;43m1\u001b[39;49m\u001b[43m)\u001b[49m\u001b[43m)\u001b[49m \n\u001b[0;32m     28\u001b[0m     \u001b[38;5;28;01mif\u001b[39;00m \u001b[38;5;129;01mnot\u001b[39;00m flag:\n\u001b[0;32m     29\u001b[0m         \u001b[38;5;28;01mreturn\u001b[39;00m \u001b[38;5;124m\"\u001b[39m\u001b[38;5;124merror, can\u001b[39m\u001b[38;5;124m'\u001b[39m\u001b[38;5;124mt be made\u001b[39m\u001b[38;5;124m\"\u001b[39m\n",
      "File \u001b[1;32mc:\\Users\\kiwi\\Desktop\\U\\CV-tuning\\Time-Travel-Queue\\osts_datetime.py:863\u001b[0m, in \u001b[0;36mnode_consistency.add_node\u001b[1;34m(self, new_node)\u001b[0m\n\u001b[0;32m    861\u001b[0m     \u001b[38;5;28;01mreturn\u001b[39;00m \u001b[38;5;28;01mTrue\u001b[39;00m\n\u001b[0;32m    862\u001b[0m \u001b[38;5;28;01melse\u001b[39;00m:  \u001b[38;5;66;03m# if delete, check if it's possible before\u001b[39;00m\n\u001b[1;32m--> 863\u001b[0m     aux \u001b[38;5;241m=\u001b[39m \u001b[38;5;28;43mself\u001b[39;49m\u001b[38;5;241;43m.\u001b[39;49m\u001b[43mtree\u001b[49m\u001b[38;5;241;43m.\u001b[39;49m\u001b[43mcheck_if_possible\u001b[49m\u001b[43m(\u001b[49m\u001b[43mnew_node\u001b[49m\u001b[38;5;241;43m.\u001b[39;49m\u001b[43mtree\u001b[49m\u001b[38;5;241;43m.\u001b[39;49m\u001b[43mroot\u001b[49m\u001b[43m)\u001b[49m\n\u001b[0;32m    864\u001b[0m     \u001b[38;5;28;01mif\u001b[39;00m aux:\n\u001b[0;32m    865\u001b[0m         \u001b[38;5;28mself\u001b[39m\u001b[38;5;241m.\u001b[39mtree\u001b[38;5;241m.\u001b[39madd_node(data_consistency(value\u001b[38;5;241m=\u001b[39mnew_node\u001b[38;5;241m.\u001b[39mtree\u001b[38;5;241m.\u001b[39mroot\u001b[38;5;241m.\u001b[39mvalue, prefix\u001b[38;5;241m=\u001b[39mnew_node\u001b[38;5;241m.\u001b[39mtree\u001b[38;5;241m.\u001b[39mroot\u001b[38;5;241m.\u001b[39mprefix))\n",
      "File \u001b[1;32mc:\\Users\\kiwi\\Desktop\\U\\CV-tuning\\Time-Travel-Queue\\osts_datetime.py:801\u001b[0m, in \u001b[0;36mRBT_consistency.check_if_possible\u001b[1;34m(self, node)\u001b[0m\n\u001b[0;32m    799\u001b[0m     stack\u001b[38;5;241m.\u001b[39mappend(curr_node)\n\u001b[0;32m    800\u001b[0m     curr_node \u001b[38;5;241m=\u001b[39m curr_node\u001b[38;5;241m.\u001b[39mleft\n\u001b[1;32m--> 801\u001b[0m curr_node \u001b[38;5;241m=\u001b[39m \u001b[43mstack\u001b[49m\u001b[38;5;241;43m.\u001b[39;49m\u001b[43mpop\u001b[49m\u001b[43m(\u001b[49m\u001b[43m)\u001b[49m\n\u001b[0;32m    802\u001b[0m curr_sum \u001b[38;5;241m+\u001b[39m\u001b[38;5;241m=\u001b[39m curr_node\u001b[38;5;241m.\u001b[39mprefix\n\u001b[0;32m    803\u001b[0m last_node_value \u001b[38;5;241m=\u001b[39m curr_node\u001b[38;5;241m.\u001b[39mvalue\n",
      "\u001b[1;31mKeyboardInterrupt\u001b[0m: "
     ]
    }
   ],
   "source": [
    "evaluate_performance()"
   ]
  },
  {
   "cell_type": "markdown",
   "metadata": {},
   "source": [
    "looks like time for pop isn't as good as I thought, definitely has something to do with the inorder traversal search of the tree"
   ]
  }
 ],
 "metadata": {
  "kernelspec": {
   "display_name": "Python 3",
   "language": "python",
   "name": "python3"
  },
  "language_info": {
   "codemirror_mode": {
    "name": "ipython",
    "version": 3
   },
   "file_extension": ".py",
   "mimetype": "text/x-python",
   "name": "python",
   "nbconvert_exporter": "python",
   "pygments_lexer": "ipython3",
   "version": "3.12.5"
  }
 },
 "nbformat": 4,
 "nbformat_minor": 2
}
