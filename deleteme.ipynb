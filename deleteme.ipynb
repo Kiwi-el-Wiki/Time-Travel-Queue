{
 "cells": [
  {
   "cell_type": "code",
   "execution_count": null,
   "metadata": {},
   "outputs": [],
   "source": [
    "# Time travel, Advanced Data Structure\n",
    "\n",
    "The Time Travel problem in the context of data structures refers to the ability to modify and query the state of a data structure at different points in time, both in the past and in the present. This problem is addressed by retroactive data structures, which allow operations to be performed that affect not only the current state of the structure, but also its history of operations.\n",
    "\n",
    "Persistence looks like:\n",
    "\n",
    "![Persistence.](link)\n",
    "\n",
    "Retroactive Data structures are like persistent data structures, but they allow operations to be performed that affect not only the current state of the structure, but also its history of operations. This means that we can add, remove, or modify operations that were performed in the past, and the structure will automatically update to reflect these changes.\n",
    "\n",
    "## current implementation\n",
    "\n",
    "In this implementation, we merge the implementation of Erik Demaine at https://youtu.be/WqCWghETNDc?si=tRViaFba89L1pA3o and the implementation shown by Mitko Nikov at https://youtu.be/m2yRawZGYXk?feature=shared .\n",
    "\n",
    "Disclaimer: this was made purely to have fun, this isn't a production ready code, and it's not optimized.\n",
    "\n",
    "\"Queue\" is a Fully retroactive data structure that supports the following operations:\n",
    "- Insert an element at a given index.\n",
    "- Delete an element at a given index.\n",
    "- Get the element at a given index.\n",
    "- Get the size of the structure at a given time.\n",
    "- Get the size of the structure at the current time.\n",
    "- Undo a operation at a given time. (if it is possible) WIP\n",
    "\n",
    "![implementation.](link)\n",
    "\n",
    "To make this possible, we use a OST as a base to work, in this case the OST is a RB Tree, but can be any tree, The OST is modified according to it's use:\n",
    "- adding, this OST only contains the operation of adding an element at a given index, stores index and value.\n",
    "- deleting, this OST only contains the operation of deleting an element at a given index, only stores the index.\n",
    "- consistency, this OST contains all the operations of adding and deleting elements, and is used to check the consistency of the structure. (stores index, +1 for adding and -1 for deleting)\n",
    "\n",
    "## Future Work\n",
    "\n",
    "- to check consistency we make a fully traversal of the tree, this CAN'T be optimized by storing the size of the tree in each node as they should be _inorder_, due to this, a better approach could be to implement a 4th structure that only point's to bridges (like a simple list that stores indexes).\n",
    "- fix the undo operation (in tested enviroment looks fine, with random values there's some bug that I couldn't find)\n",
    "- benchmark in a better way pop, front and undo operations\n",
    "- better OST implementation, this one isn't a mess but could be better, AA tree could be a good choice, Tango Tree would be an astonishing choice.\n",
    "\n",
    "## some scribble notes\n",
    "\n",
    "![implementation.](link)"
   ]
  }
 ],
 "metadata": {
  "language_info": {
   "name": "python"
  }
 },
 "nbformat": 4,
 "nbformat_minor": 2
}
